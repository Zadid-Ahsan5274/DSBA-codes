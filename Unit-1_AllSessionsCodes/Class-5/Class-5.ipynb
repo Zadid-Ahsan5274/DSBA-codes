{
 "cells": [
  {
   "cell_type": "markdown",
   "id": "6195c8ec-395c-4685-b715-495b0d69a856",
   "metadata": {},
   "source": [
    "### Class Date 17/05/2024 ###"
   ]
  },
  {
   "cell_type": "code",
   "execution_count": 4,
   "id": "7c59281c-3d51-4c49-854c-234ac5ca2cda",
   "metadata": {},
   "outputs": [],
   "source": [
    "import os"
   ]
  },
  {
   "cell_type": "code",
   "execution_count": 5,
   "id": "8fbad0e0-1a10-4c52-b875-3ad50ed32dd2",
   "metadata": {},
   "outputs": [
    {
     "data": {
      "text/plain": [
       "'/Users/zadidahsan/Documents/Class-5'"
      ]
     },
     "execution_count": 5,
     "metadata": {},
     "output_type": "execute_result"
    }
   ],
   "source": [
    "os.getcwd() # get current working directory"
   ]
  },
  {
   "cell_type": "code",
   "execution_count": 20,
   "id": "bf6da9ea-bec7-4f06-b351-67ce58516a77",
   "metadata": {},
   "outputs": [
    {
     "ename": "TypeError",
     "evalue": "chdir() missing required argument 'path' (pos 1)",
     "output_type": "error",
     "traceback": [
      "\u001b[0;31m---------------------------------------------------------------------------\u001b[0m",
      "\u001b[0;31mTypeError\u001b[0m                                 Traceback (most recent call last)",
      "Cell \u001b[0;32mIn[20], line 1\u001b[0m\n\u001b[0;32m----> 1\u001b[0m \u001b[43mos\u001b[49m\u001b[38;5;241;43m.\u001b[39;49m\u001b[43mchdir\u001b[49m\u001b[43m(\u001b[49m\u001b[43m)\u001b[49m\n",
      "\u001b[0;31mTypeError\u001b[0m: chdir() missing required argument 'path' (pos 1)"
     ]
    }
   ],
   "source": [
    "os.chdir() # change current working directory"
   ]
  },
  {
   "cell_type": "code",
   "execution_count": 15,
   "id": "30bcec5e-6eea-4fed-acef-9c6c8d3e3afc",
   "metadata": {},
   "outputs": [],
   "source": [
    "file1 = open(\"names.txt\",\"r\") # find handler\n",
    "# print(f.read())"
   ]
  },
  {
   "cell_type": "code",
   "execution_count": 11,
   "id": "e411090d-d114-436b-98c6-49e9ecd529d5",
   "metadata": {},
   "outputs": [
    {
     "data": {
      "text/plain": [
       "'Albert Zammit\\nBetsy Yates\\n   Chi-Yen Xu    \\nDevi Wagle\\n  Edward Valentine\\nFrances Unwin\\nGraeme Trotter'"
      ]
     },
     "execution_count": 11,
     "metadata": {},
     "output_type": "execute_result"
    }
   ],
   "source": [
    "file1.read()"
   ]
  },
  {
   "cell_type": "code",
   "execution_count": 14,
   "id": "75de3cfe-41ab-4488-b421-c39f87d1b524",
   "metadata": {},
   "outputs": [
    {
     "data": {
      "text/plain": [
       "['Albert Zammit\\n',\n",
       " 'Betsy Yates\\n',\n",
       " '   Chi-Yen Xu    \\n',\n",
       " 'Devi Wagle\\n',\n",
       " '  Edward Valentine\\n',\n",
       " 'Frances Unwin\\n',\n",
       " 'Graeme Trotter']"
      ]
     },
     "execution_count": 14,
     "metadata": {},
     "output_type": "execute_result"
    }
   ],
   "source": [
    "file1.readlines()"
   ]
  },
  {
   "cell_type": "code",
   "execution_count": 18,
   "id": "4b71fa09-c191-4b7a-bd41-4e125ac09229",
   "metadata": {},
   "outputs": [
    {
     "data": {
      "text/plain": [
       "'   Chi-Yen Xu    \\n'"
      ]
     },
     "execution_count": 18,
     "metadata": {},
     "output_type": "execute_result"
    }
   ],
   "source": [
    "file1.readline()"
   ]
  },
  {
   "cell_type": "markdown",
   "id": "541f43ac-e82a-4f44-944f-09860cfbe349",
   "metadata": {},
   "source": [
    "### Other data structures ###"
   ]
  },
  {
   "cell_type": "code",
   "execution_count": 26,
   "id": "a95e345f-8d44-4aea-970a-eb2b34e5bae5",
   "metadata": {},
   "outputs": [],
   "source": [
    "mylist1 = [1,3,8,3,9,\"zadid\"]"
   ]
  },
  {
   "cell_type": "code",
   "execution_count": 31,
   "id": "5b09363e-51d3-43f5-a277-24aa09411fa9",
   "metadata": {},
   "outputs": [],
   "source": [
    "mylist1.append(\"apple\")"
   ]
  },
  {
   "cell_type": "code",
   "execution_count": 32,
   "id": "fd987e7f-64fc-498c-8ac1-8d8763fb89f9",
   "metadata": {},
   "outputs": [
    {
     "data": {
      "text/plain": [
       "[1, 3, 8, 3, 9, 'zadid', 'apple', 'apple', 'apple']"
      ]
     },
     "execution_count": 32,
     "metadata": {},
     "output_type": "execute_result"
    }
   ],
   "source": [
    "mylist1"
   ]
  },
  {
   "cell_type": "code",
   "execution_count": 23,
   "id": "4ee927a9-7312-4e12-85b2-70019d2c85ca",
   "metadata": {},
   "outputs": [
    {
     "data": {
      "text/plain": [
       "list"
      ]
     },
     "execution_count": 23,
     "metadata": {},
     "output_type": "execute_result"
    }
   ],
   "source": [
    "type(mylist1)"
   ]
  },
  {
   "cell_type": "code",
   "execution_count": 24,
   "id": "199f66b7-7c81-47e5-97cc-83e06058ffc2",
   "metadata": {},
   "outputs": [],
   "source": [
    "mylist1.append(\"orange\")"
   ]
  },
  {
   "cell_type": "code",
   "execution_count": 25,
   "id": "d0eb6cc3-29be-48f4-aeae-e25ff5affd88",
   "metadata": {},
   "outputs": [
    {
     "name": "stdout",
     "output_type": "stream",
     "text": [
      "[1, 3, 8, 3, 9, 'zadid', 'orange']\n"
     ]
    }
   ],
   "source": [
    "print(mylist1)"
   ]
  },
  {
   "cell_type": "code",
   "execution_count": 27,
   "id": "a96ca4c5-1b6a-4e5a-a99a-30c0e424a807",
   "metadata": {},
   "outputs": [
    {
     "data": {
      "text/plain": [
       "'zadid'"
      ]
     },
     "execution_count": 27,
     "metadata": {},
     "output_type": "execute_result"
    }
   ],
   "source": [
    "mylist1[5]"
   ]
  },
  {
   "cell_type": "code",
   "execution_count": 28,
   "id": "ccd9cda8-3583-4efd-9ec3-0504c293bacf",
   "metadata": {},
   "outputs": [
    {
     "data": {
      "text/plain": [
       "7"
      ]
     },
     "execution_count": 28,
     "metadata": {},
     "output_type": "execute_result"
    }
   ],
   "source": [
    "len(mylist1)"
   ]
  },
  {
   "cell_type": "code",
   "execution_count": 29,
   "id": "a029cf21-8c43-42d4-ad65-92996337d501",
   "metadata": {},
   "outputs": [],
   "source": [
    "listC = [\"Fruit groups\",\n",
    "          [\"protein\",[\"meat\",\"fish\",\"egg\",\"soy\"]],\n",
    "          [\"carbohydrate\",[\"sugar\",\"starch\"]],\n",
    "          [\"fat\",[\"oil\",\"lard\",\"butter\"]],\n",
    "          [\"drinks\",[\"coffee\",\"milk\",\"corbonated\"]]\n",
    "        ]  # Embedded list -> lists within list \n",
    "# Embedded list can not be converted to a data frame because not same length - can be accessed through index"
   ]
  },
  {
   "cell_type": "code",
   "execution_count": 30,
   "id": "c9533227-4dec-4400-9499-07a920467ca6",
   "metadata": {},
   "outputs": [
    {
     "data": {
      "text/plain": [
       "'Fruit groups'"
      ]
     },
     "execution_count": 30,
     "metadata": {},
     "output_type": "execute_result"
    }
   ],
   "source": [
    "listC[0]"
   ]
  },
  {
   "cell_type": "code",
   "execution_count": 31,
   "id": "d4d2ec4f-2607-44fc-a01b-2cdf4b6d5a39",
   "metadata": {},
   "outputs": [
    {
     "data": {
      "text/plain": [
       "['protein', ['meat', 'fish', 'egg', 'soy']]"
      ]
     },
     "execution_count": 31,
     "metadata": {},
     "output_type": "execute_result"
    }
   ],
   "source": [
    "listC[1]"
   ]
  },
  {
   "cell_type": "code",
   "execution_count": 32,
   "id": "8893f5e3-15f0-4575-8f15-c3c7a9a630b3",
   "metadata": {},
   "outputs": [
    {
     "data": {
      "text/plain": [
       "['carbohydrate', ['sugar', 'starch']]"
      ]
     },
     "execution_count": 32,
     "metadata": {},
     "output_type": "execute_result"
    }
   ],
   "source": [
    "listC[2]"
   ]
  },
  {
   "cell_type": "code",
   "execution_count": 33,
   "id": "d9b6e946-87c8-4e12-91d5-b4bfeaf103a8",
   "metadata": {},
   "outputs": [
    {
     "data": {
      "text/plain": [
       "'carbohydrate'"
      ]
     },
     "execution_count": 33,
     "metadata": {},
     "output_type": "execute_result"
    }
   ],
   "source": [
    "listC[2][0]"
   ]
  },
  {
   "cell_type": "code",
   "execution_count": 34,
   "id": "a8ece7d4-12cf-4295-944f-328428b14f64",
   "metadata": {},
   "outputs": [
    {
     "data": {
      "text/plain": [
       "['sugar', 'starch']"
      ]
     },
     "execution_count": 34,
     "metadata": {},
     "output_type": "execute_result"
    }
   ],
   "source": [
    "listC[2][1]"
   ]
  },
  {
   "cell_type": "code",
   "execution_count": 36,
   "id": "f7f02510-1ca4-4d2a-bd80-19dd1d95866b",
   "metadata": {},
   "outputs": [
    {
     "data": {
      "text/plain": [
       "'sugar'"
      ]
     },
     "execution_count": 36,
     "metadata": {},
     "output_type": "execute_result"
    }
   ],
   "source": [
    "listC[2][1][0]"
   ]
  },
  {
   "cell_type": "code",
   "execution_count": 37,
   "id": "23063cc5-cc4d-4101-9484-8d68a334984f",
   "metadata": {},
   "outputs": [
    {
     "data": {
      "text/plain": [
       "'starch'"
      ]
     },
     "execution_count": 37,
     "metadata": {},
     "output_type": "execute_result"
    }
   ],
   "source": [
    "listC[2][1][1]"
   ]
  },
  {
   "cell_type": "code",
   "execution_count": 38,
   "id": "476bf81a-5408-41d0-9558-dcc1014d121b",
   "metadata": {},
   "outputs": [
    {
     "data": {
      "text/plain": [
       "['drinks', ['coffee', 'milk', 'corbonated']]"
      ]
     },
     "execution_count": 38,
     "metadata": {},
     "output_type": "execute_result"
    }
   ],
   "source": [
    "listC[4]"
   ]
  },
  {
   "cell_type": "code",
   "execution_count": 39,
   "id": "856701a8-28cf-43b5-bc05-266de65d86e0",
   "metadata": {},
   "outputs": [
    {
     "data": {
      "text/plain": [
       "['coffee', 'milk', 'corbonated']"
      ]
     },
     "execution_count": 39,
     "metadata": {},
     "output_type": "execute_result"
    }
   ],
   "source": [
    "listC[4][1]"
   ]
  },
  {
   "cell_type": "code",
   "execution_count": 40,
   "id": "ee203aad-4af4-4a6d-be3c-2f81c75e0e80",
   "metadata": {},
   "outputs": [
    {
     "data": {
      "text/plain": [
       "'coffee'"
      ]
     },
     "execution_count": 40,
     "metadata": {},
     "output_type": "execute_result"
    }
   ],
   "source": [
    "listC[4][1][0]"
   ]
  },
  {
   "cell_type": "code",
   "execution_count": 41,
   "id": "53c1251b-00ce-4092-92bc-663f67110b03",
   "metadata": {},
   "outputs": [
    {
     "data": {
      "text/plain": [
       "'corbonated'"
      ]
     },
     "execution_count": 41,
     "metadata": {},
     "output_type": "execute_result"
    }
   ],
   "source": [
    "listC[4][1][2]"
   ]
  },
  {
   "cell_type": "code",
   "execution_count": 42,
   "id": "6348f2d1-29a0-40c6-9f03-f3879fe027b1",
   "metadata": {},
   "outputs": [
    {
     "data": {
      "text/plain": [
       "[1, 3, 8, 3, 9, 'zadid', 'orange']"
      ]
     },
     "execution_count": 42,
     "metadata": {},
     "output_type": "execute_result"
    }
   ],
   "source": [
    "# lists are mutable\n",
    "mylist1"
   ]
  },
  {
   "cell_type": "code",
   "execution_count": 43,
   "id": "b2aced08-b3a7-4320-b374-7a4dd44d8487",
   "metadata": {},
   "outputs": [
    {
     "data": {
      "text/plain": [
       "3"
      ]
     },
     "execution_count": 43,
     "metadata": {},
     "output_type": "execute_result"
    }
   ],
   "source": [
    "mylist1[1]"
   ]
  },
  {
   "cell_type": "code",
   "execution_count": 44,
   "id": "943dddc7-3005-4f35-bd12-6fdb5f9d62c7",
   "metadata": {},
   "outputs": [],
   "source": [
    "mylist1[1] = 13"
   ]
  },
  {
   "cell_type": "code",
   "execution_count": 45,
   "id": "cc5d91b9-b9bd-4846-aedd-165beec67b43",
   "metadata": {},
   "outputs": [
    {
     "data": {
      "text/plain": [
       "[1, 13, 8, 3, 9, 'zadid', 'orange']"
      ]
     },
     "execution_count": 45,
     "metadata": {},
     "output_type": "execute_result"
    }
   ],
   "source": [
    "mylist1"
   ]
  },
  {
   "cell_type": "code",
   "execution_count": 46,
   "id": "823f269c-cd35-431f-9af1-9c1611c1adfa",
   "metadata": {},
   "outputs": [],
   "source": [
    "# String - array of characters - list and string are not same\n",
    "# Strings are not mutable(not changable)\n",
    "mystring1 = \"pathetic\""
   ]
  },
  {
   "cell_type": "code",
   "execution_count": 47,
   "id": "9bf03420-26bf-4fca-9237-bb1bcd5893d9",
   "metadata": {},
   "outputs": [
    {
     "ename": "TypeError",
     "evalue": "'str' object does not support item assignment",
     "output_type": "error",
     "traceback": [
      "\u001b[0;31m---------------------------------------------------------------------------\u001b[0m",
      "\u001b[0;31mTypeError\u001b[0m                                 Traceback (most recent call last)",
      "Cell \u001b[0;32mIn[47], line 1\u001b[0m\n\u001b[0;32m----> 1\u001b[0m \u001b[43mmystring1\u001b[49m\u001b[43m[\u001b[49m\u001b[38;5;241;43m0\u001b[39;49m\u001b[43m]\u001b[49m \u001b[38;5;241m=\u001b[39m \u001b[38;5;124m\"\u001b[39m\u001b[38;5;124mn\u001b[39m\u001b[38;5;124m\"\u001b[39m\n",
      "\u001b[0;31mTypeError\u001b[0m: 'str' object does not support item assignment"
     ]
    }
   ],
   "source": [
    "# mystring1[0] = \"n\" will not work"
   ]
  },
  {
   "cell_type": "markdown",
   "id": "3add65be-5d2a-4e65-a01a-83ea162d35b4",
   "metadata": {},
   "source": [
    "#### Dictionary"
   ]
  },
  {
   "cell_type": "code",
   "execution_count": 4,
   "id": "48d7bc9d-9462-4127-b2d2-3ac9eda71836",
   "metadata": {},
   "outputs": [],
   "source": [
    "mydictionary1 = {\"a\":1,\"b\":3,\"c\":8,\"d\":3,\"e\":9,\"f\":\"zadid\"} # key-value pair"
   ]
  },
  {
   "cell_type": "code",
   "execution_count": 5,
   "id": "cbb59401-b31c-4401-aa46-8abfd9982160",
   "metadata": {},
   "outputs": [
    {
     "data": {
      "text/plain": [
       "3"
      ]
     },
     "execution_count": 5,
     "metadata": {},
     "output_type": "execute_result"
    }
   ],
   "source": [
    "mydictionary1[\"d\"] # dictionary can be called by index, only key"
   ]
  },
  {
   "cell_type": "code",
   "execution_count": 6,
   "id": "eb7f0492-dec3-4234-b868-e9c962ada8d4",
   "metadata": {},
   "outputs": [
    {
     "data": {
      "text/plain": [
       "'zadid'"
      ]
     },
     "execution_count": 6,
     "metadata": {},
     "output_type": "execute_result"
    }
   ],
   "source": [
    "mydictionary1[\"f\"]"
   ]
  },
  {
   "cell_type": "code",
   "execution_count": 7,
   "id": "c3c1df02-c36b-4d4a-885e-3e3245d82d66",
   "metadata": {},
   "outputs": [],
   "source": [
    "mydictionary2 = {\n",
    "               'boat':\"lots of fun\",\n",
    "               'wedding':\"a form of ceremony\",\n",
    "               'eclair':\"a cake long in shape but short in duration\",\n",
    "               'pink':\"a yellow lake\",\n",
    "               'ynambu':\"a very large tinamou\"\n",
    "            }"
   ]
  },
  {
   "cell_type": "code",
   "execution_count": 8,
   "id": "774b1201-c4a5-4bbd-a605-acfe955467b3",
   "metadata": {},
   "outputs": [
    {
     "data": {
      "text/plain": [
       "'a yellow lake'"
      ]
     },
     "execution_count": 8,
     "metadata": {},
     "output_type": "execute_result"
    }
   ],
   "source": [
    "mydictionary2['pink']"
   ]
  },
  {
   "cell_type": "code",
   "execution_count": 9,
   "id": "eaf48fe5-f4cc-42f0-b4fa-0d9058a50a6e",
   "metadata": {},
   "outputs": [
    {
     "data": {
      "text/plain": [
       "dict_keys(['boat', 'wedding', 'eclair', 'pink', 'ynambu'])"
      ]
     },
     "execution_count": 9,
     "metadata": {},
     "output_type": "execute_result"
    }
   ],
   "source": [
    "mydictionary2.keys()"
   ]
  },
  {
   "cell_type": "code",
   "execution_count": 10,
   "id": "36fb3262-88a7-4e5b-acd4-eff90ebd5468",
   "metadata": {},
   "outputs": [
    {
     "data": {
      "text/plain": [
       "dict_values(['lots of fun', 'a form of ceremony', 'a cake long in shape but short in duration', 'a yellow lake', 'a very large tinamou'])"
      ]
     },
     "execution_count": 10,
     "metadata": {},
     "output_type": "execute_result"
    }
   ],
   "source": [
    "mydictionary2.values()"
   ]
  },
  {
   "cell_type": "code",
   "execution_count": 35,
   "id": "8ef82cc1-30b2-4f06-8851-8901f6ae7a3b",
   "metadata": {},
   "outputs": [
    {
     "data": {
      "text/plain": [
       "list"
      ]
     },
     "execution_count": 35,
     "metadata": {},
     "output_type": "execute_result"
    }
   ],
   "source": [
    "type(sorted(mydictionary2.items())) # Sorting in dictionary - after sorting dict has become list"
   ]
  },
  {
   "cell_type": "code",
   "execution_count": 36,
   "id": "dc552f00-4065-4220-a355-4c608cf54234",
   "metadata": {},
   "outputs": [
    {
     "data": {
      "text/plain": [
       "{'boat': 'lots of fun',\n",
       " 'eclair': 'a cake long in shape but short in duration',\n",
       " 'pink': 'a yellow lake',\n",
       " 'wedding': 'a form of ceremony',\n",
       " 'ynambu': 'a very large tinamou'}"
      ]
     },
     "execution_count": 36,
     "metadata": {},
     "output_type": "execute_result"
    }
   ],
   "source": [
    "dict(sorted(mydictionary2.items()))"
   ]
  },
  {
   "cell_type": "code",
   "execution_count": 11,
   "id": "164219f1-c9c1-4b8b-80a6-6b86f10316f3",
   "metadata": {},
   "outputs": [],
   "source": [
    "fruitslist=[\"apple\",\"banana\",\"cherry\",\"jackfruit\",\"lichi\",\"orange\"]"
   ]
  },
  {
   "cell_type": "code",
   "execution_count": 16,
   "id": "d56b9b33-c60e-41f2-bd74-5308bf2f1e2a",
   "metadata": {},
   "outputs": [],
   "source": [
    "fruitsdict = {\"apple\":[200,200],\"banana\":300,\"cherry\":400,\"jackfruit\":500,\"lichi\":600,\"orange\":700}"
   ]
  },
  {
   "cell_type": "code",
   "execution_count": 17,
   "id": "cdd704ff-6d49-4b59-b148-52a5340ba2a1",
   "metadata": {},
   "outputs": [
    {
     "data": {
      "text/plain": [
       "dict"
      ]
     },
     "execution_count": 17,
     "metadata": {},
     "output_type": "execute_result"
    }
   ],
   "source": [
    "type(fruitsdict)"
   ]
  },
  {
   "cell_type": "code",
   "execution_count": 14,
   "id": "d4fac5e1-2bf7-4b67-8724-e2621c474407",
   "metadata": {},
   "outputs": [
    {
     "data": {
      "text/plain": [
       "[200, 200]"
      ]
     },
     "execution_count": 14,
     "metadata": {},
     "output_type": "execute_result"
    }
   ],
   "source": [
    "fruitsdict[\"apple\"]   # dictionary -> unstructured data structure -> very flexible"
   ]
  },
  {
   "cell_type": "code",
   "execution_count": 21,
   "id": "5711ceb3-f6be-404e-9ddb-980dffff2825",
   "metadata": {},
   "outputs": [],
   "source": [
    "fruitsset={\"apple\",\"banana\",\"cherry\",\"jackfruit\",\"lichi\",\"orange\"}"
   ]
  },
  {
   "cell_type": "code",
   "execution_count": 22,
   "id": "2378507f-afe3-4d9b-8102-8020db80b517",
   "metadata": {},
   "outputs": [
    {
     "data": {
      "text/plain": [
       "set"
      ]
     },
     "execution_count": 22,
     "metadata": {},
     "output_type": "execute_result"
    }
   ],
   "source": [
    "type(fruitsset) # set -> 3rd type of data structure"
   ]
  },
  {
   "cell_type": "code",
   "execution_count": 23,
   "id": "d0b3a3d9-e263-46de-9081-f31ad7bd0b4f",
   "metadata": {},
   "outputs": [],
   "source": [
    "fruitstuple=(\"apple\",\"banana\",\"cherry\",\"jackfruit\",\"lichi\",\"orange\")"
   ]
  },
  {
   "cell_type": "code",
   "execution_count": 24,
   "id": "3892a941-68f7-44f8-a2b4-35c541f755c6",
   "metadata": {},
   "outputs": [
    {
     "data": {
      "text/plain": [
       "tuple"
      ]
     },
     "execution_count": 24,
     "metadata": {},
     "output_type": "execute_result"
    }
   ],
   "source": [
    "type(fruitstuple)"
   ]
  },
  {
   "cell_type": "code",
   "execution_count": null,
   "id": "fdc999e6-edee-4c70-8ac2-a18cab402e73",
   "metadata": {},
   "outputs": [],
   "source": [
    "# list, dictionary, set, tuple\n",
    "# mutable(those that can be changed) -> set, dictionary, set\n",
    "# When add in list -> 'append' command\n",
    "# immutable -> tuple\n",
    "# Sorting can not be done in set\n",
    "# Sorting concept is not in dictionary\n",
    "# Duplicate items can be added in list but not in set"
   ]
  },
  {
   "cell_type": "code",
   "execution_count": 25,
   "id": "c1f95d18-95c2-4b26-9f4f-db19b876b4ba",
   "metadata": {},
   "outputs": [
    {
     "ename": "TypeError",
     "evalue": "'tuple' object does not support item assignment",
     "output_type": "error",
     "traceback": [
      "\u001b[0;31m---------------------------------------------------------------------------\u001b[0m",
      "\u001b[0;31mTypeError\u001b[0m                                 Traceback (most recent call last)",
      "Cell \u001b[0;32mIn[25], line 1\u001b[0m\n\u001b[0;32m----> 1\u001b[0m \u001b[43mfruitstuple\u001b[49m\u001b[43m[\u001b[49m\u001b[38;5;241;43m1\u001b[39;49m\u001b[43m]\u001b[49m\u001b[38;5;241m=\u001b[39m\u001b[38;5;124m\"\u001b[39m\u001b[38;5;124mguava\u001b[39m\u001b[38;5;124m\"\u001b[39m\n",
      "\u001b[0;31mTypeError\u001b[0m: 'tuple' object does not support item assignment"
     ]
    }
   ],
   "source": [
    "fruitstuple[1]=\"guava\""
   ]
  },
  {
   "cell_type": "code",
   "execution_count": null,
   "id": "e6c81669-8fba-4149-bb00-71d226b4962b",
   "metadata": {},
   "outputs": [],
   "source": [
    "# numpy -> numerical python"
   ]
  },
  {
   "cell_type": "code",
   "execution_count": 39,
   "id": "aa452d56-b654-4a2f-abf9-03884c64e7de",
   "metadata": {},
   "outputs": [
    {
     "name": "stdout",
     "output_type": "stream",
     "text": [
      "Collecting numpy\n",
      "  Downloading numpy-1.26.4-cp312-cp312-macosx_11_0_arm64.whl.metadata (61 kB)\n",
      "\u001b[2K     \u001b[90m━━━━━━━━━━━━━━━━━━━━━━━━━━━━━━━━━━━━━━━\u001b[0m \u001b[32m61.1/61.1 kB\u001b[0m \u001b[31m352.6 kB/s\u001b[0m eta \u001b[36m0:00:00\u001b[0ma \u001b[36m0:00:01\u001b[0m\n",
      "\u001b[?25hDownloading numpy-1.26.4-cp312-cp312-macosx_11_0_arm64.whl (13.7 MB)\n",
      "\u001b[2K   \u001b[90m━━━━━━━━━━━━━━━━━━━━━━━━━━━━━━━━━━━━━━━━\u001b[0m \u001b[32m13.7/13.7 MB\u001b[0m \u001b[31m1.8 MB/s\u001b[0m eta \u001b[36m0:00:00\u001b[0m00:01\u001b[0m00:01\u001b[0m\n",
      "\u001b[?25hInstalling collected packages: numpy\n",
      "Successfully installed numpy-1.26.4\n",
      "Note: you may need to restart the kernel to use updated packages.\n"
     ]
    }
   ],
   "source": [
    "pip install numpy"
   ]
  },
  {
   "cell_type": "code",
   "execution_count": 49,
   "id": "e11e0c9f-fbdb-4e57-a715-51fbf9e90602",
   "metadata": {},
   "outputs": [],
   "source": [
    "import numpy as np"
   ]
  },
  {
   "cell_type": "code",
   "execution_count": null,
   "id": "463b17d2-fcad-4e95-9d9f-09add8df08af",
   "metadata": {},
   "outputs": [],
   "source": [
    "# numpy works with own data structure -> numpy array"
   ]
  },
  {
   "cell_type": "code",
   "execution_count": 41,
   "id": "93dcee5d-8c5b-4fc3-a94b-8dc3fa7a6b56",
   "metadata": {},
   "outputs": [],
   "source": [
    "aList = [[1,2,5,6],[2,8,5,9],[4,7,8,2]]"
   ]
  },
  {
   "cell_type": "code",
   "execution_count": 42,
   "id": "3cf88d09-bf1a-4352-847d-79981121d6c5",
   "metadata": {},
   "outputs": [
    {
     "name": "stdout",
     "output_type": "stream",
     "text": [
      "[[1, 2, 5, 6], [2, 8, 5, 9], [4, 7, 8, 2]]\n"
     ]
    }
   ],
   "source": [
    "print(aList)"
   ]
  },
  {
   "cell_type": "code",
   "execution_count": 43,
   "id": "ae81de47-d5b3-48b5-a24b-b57ecadedc2a",
   "metadata": {},
   "outputs": [
    {
     "name": "stdout",
     "output_type": "stream",
     "text": [
      "[[1, 2, 5, 6], [2, 8, 5, 9], [4, 7, 8, 2], [1, 2, 5, 6], [2, 8, 5, 9], [4, 7, 8, 2]]\n"
     ]
    }
   ],
   "source": [
    "print(aList*2)"
   ]
  },
  {
   "cell_type": "code",
   "execution_count": 50,
   "id": "c89eac40-0244-441e-ab84-f0d295d6a481",
   "metadata": {},
   "outputs": [],
   "source": [
    "aArray = np.array(aList)"
   ]
  },
  {
   "cell_type": "code",
   "execution_count": 47,
   "id": "eb726796-f520-498e-9d9d-c6819e8d3b9e",
   "metadata": {},
   "outputs": [
    {
     "name": "stdout",
     "output_type": "stream",
     "text": [
      "[[1 2 5 6]\n",
      " [2 8 5 9]\n",
      " [4 7 8 2]]\n"
     ]
    }
   ],
   "source": [
    "print(aArray)"
   ]
  },
  {
   "cell_type": "code",
   "execution_count": 48,
   "id": "3668608c-38b4-460b-8ea8-2a6eb185c17c",
   "metadata": {},
   "outputs": [
    {
     "name": "stdout",
     "output_type": "stream",
     "text": [
      "[[ 2  4 10 12]\n",
      " [ 4 16 10 18]\n",
      " [ 8 14 16  4]]\n"
     ]
    }
   ],
   "source": [
    "print(aArray*2)"
   ]
  },
  {
   "cell_type": "code",
   "execution_count": null,
   "id": "028fba4b-8a96-4e50-ab7a-d460ddaf4ded",
   "metadata": {},
   "outputs": [],
   "source": [
    "# numpy is a mathematical package -> works in matrix"
   ]
  },
  {
   "cell_type": "code",
   "execution_count": 51,
   "id": "afd9d02e-61b3-43dc-bbcf-644803223957",
   "metadata": {},
   "outputs": [
    {
     "name": "stdout",
     "output_type": "stream",
     "text": [
      "Collecting pandas\n",
      "  Downloading pandas-2.2.2-cp312-cp312-macosx_11_0_arm64.whl.metadata (19 kB)\n",
      "Requirement already satisfied: numpy>=1.26.0 in /Library/Frameworks/Python.framework/Versions/3.12/lib/python3.12/site-packages (from pandas) (1.26.4)\n",
      "Requirement already satisfied: python-dateutil>=2.8.2 in /Library/Frameworks/Python.framework/Versions/3.12/lib/python3.12/site-packages (from pandas) (2.9.0.post0)\n",
      "Requirement already satisfied: pytz>=2020.1 in /Library/Frameworks/Python.framework/Versions/3.12/lib/python3.12/site-packages (from pandas) (2022.7.1)\n",
      "Requirement already satisfied: tzdata>=2022.7 in /Library/Frameworks/Python.framework/Versions/3.12/lib/python3.12/site-packages (from pandas) (2022.7)\n",
      "Requirement already satisfied: six>=1.5 in /Library/Frameworks/Python.framework/Versions/3.12/lib/python3.12/site-packages (from python-dateutil>=2.8.2->pandas) (1.16.0)\n",
      "Downloading pandas-2.2.2-cp312-cp312-macosx_11_0_arm64.whl (11.3 MB)\n",
      "\u001b[2K   \u001b[90m━━━━━━━━━━━━━━━━━━━━━━━━━━━━━━━━━━━━━━━━\u001b[0m \u001b[32m11.3/11.3 MB\u001b[0m \u001b[31m1.8 MB/s\u001b[0m eta \u001b[36m0:00:00\u001b[0m00:01\u001b[0m00:01\u001b[0m\n",
      "\u001b[?25hInstalling collected packages: pandas\n",
      "Successfully installed pandas-2.2.2\n",
      "Note: you may need to restart the kernel to use updated packages.\n"
     ]
    }
   ],
   "source": [
    "pip install pandas"
   ]
  },
  {
   "cell_type": "code",
   "execution_count": 52,
   "id": "f333e752-f94a-4f7a-a0b0-fd1bd66a553e",
   "metadata": {},
   "outputs": [],
   "source": [
    "import pandas as pd"
   ]
  },
  {
   "cell_type": "code",
   "execution_count": 53,
   "id": "6068e6bd-2eb4-4e3a-b03c-39deec039620",
   "metadata": {},
   "outputs": [
    {
     "name": "stdout",
     "output_type": "stream",
     "text": [
      "aList:\n",
      " [1, 2, 5, 6, 2, 8, 5, 9, 4, 7, 8, 2]\n"
     ]
    }
   ],
   "source": [
    "a1DList = [1,2,5,6,2,8,5,9,4,7,8,2]\n",
    "print(\"aList:\\n\",a1DList)"
   ]
  },
  {
   "cell_type": "code",
   "execution_count": 54,
   "id": "aad29ddd-b715-484f-a100-3a333c5db6cf",
   "metadata": {},
   "outputs": [],
   "source": [
    "a1Darray = np.array(a1DList)"
   ]
  },
  {
   "cell_type": "code",
   "execution_count": 56,
   "id": "72843f3b-71ea-4336-b769-266647686bca",
   "metadata": {},
   "outputs": [
    {
     "name": "stdout",
     "output_type": "stream",
     "text": [
      "[1 2 5 6 2 8 5 9 4 7 8 2]\n"
     ]
    }
   ],
   "source": [
    "print(a1Darray)"
   ]
  },
  {
   "cell_type": "code",
   "execution_count": null,
   "id": "ec9302d7-45d5-4258-b6bc-50aeb3c8eeb3",
   "metadata": {},
   "outputs": [],
   "source": [
    "# pandas -> mainly 2 data structures => series and data frame\n",
    "# series -> 1 column / 1 dimensional"
   ]
  },
  {
   "cell_type": "code",
   "execution_count": 58,
   "id": "107140e2-cea3-44dd-90bf-4a35beeed500",
   "metadata": {},
   "outputs": [
    {
     "data": {
      "text/plain": [
       "0     1\n",
       "1     2\n",
       "2     5\n",
       "3     6\n",
       "4     2\n",
       "5     8\n",
       "6     5\n",
       "7     9\n",
       "8     4\n",
       "9     7\n",
       "10    8\n",
       "11    2\n",
       "dtype: int64"
      ]
     },
     "execution_count": 58,
     "metadata": {},
     "output_type": "execute_result"
    }
   ],
   "source": [
    "pd.Series(a1Darray) # converting to series -> index is added, vertically shown, adding data type"
   ]
  },
  {
   "cell_type": "code",
   "execution_count": 60,
   "id": "25552578-2e28-4c3d-813f-93a626f1d9ae",
   "metadata": {},
   "outputs": [],
   "source": [
    "myDict1 = {\"a\":1,\"c\":5,\"d\":9}"
   ]
  },
  {
   "cell_type": "code",
   "execution_count": 61,
   "id": "a057791d-f94f-4b33-bab8-d8468b18bba3",
   "metadata": {},
   "outputs": [
    {
     "data": {
      "text/plain": [
       "a    1\n",
       "c    5\n",
       "d    9\n",
       "dtype: int64"
      ]
     },
     "execution_count": 61,
     "metadata": {},
     "output_type": "execute_result"
    }
   ],
   "source": [
    "pd.Series(myDict1) # when converted from dictionary to series, keys are converted to indexes"
   ]
  },
  {
   "cell_type": "code",
   "execution_count": 63,
   "id": "d6f95811-54e5-4c57-85d7-78fdea5992b2",
   "metadata": {},
   "outputs": [],
   "source": [
    "myList2 = [[1,2,5,6],[2,8,5,9],[4,7,8,2]] # Embedded list"
   ]
  },
  {
   "cell_type": "code",
   "execution_count": 66,
   "id": "a675c40e-f234-4dde-95b7-48a330b1cf38",
   "metadata": {},
   "outputs": [
    {
     "name": "stdout",
     "output_type": "stream",
     "text": [
      "[[1 2 5 6]\n",
      " [2 8 5 9]\n",
      " [4 7 8 2]]\n"
     ]
    }
   ],
   "source": [
    "myarray2 = np.array(myList2)\n",
    "print(myarray2)"
   ]
  },
  {
   "cell_type": "code",
   "execution_count": 67,
   "id": "be45de97-fea2-43f9-b3e5-cd2c25d46a00",
   "metadata": {},
   "outputs": [],
   "source": [
    "mydf2 = pd.DataFrame(myList2) # will create rows and columns"
   ]
  },
  {
   "cell_type": "code",
   "execution_count": 68,
   "id": "c279b106-a74c-40c9-a591-55b3d05f8ba2",
   "metadata": {},
   "outputs": [
    {
     "data": {
      "text/plain": [
       "0    2\n",
       "1    8\n",
       "2    7\n",
       "Name: 1, dtype: int64"
      ]
     },
     "execution_count": 68,
     "metadata": {},
     "output_type": "execute_result"
    }
   ],
   "source": [
    "mydf2[1]"
   ]
  },
  {
   "cell_type": "code",
   "execution_count": 69,
   "id": "8ede18bd-31be-40b2-a12b-96b05da21340",
   "metadata": {},
   "outputs": [
    {
     "data": {
      "text/html": [
       "<div>\n",
       "<style scoped>\n",
       "    .dataframe tbody tr th:only-of-type {\n",
       "        vertical-align: middle;\n",
       "    }\n",
       "\n",
       "    .dataframe tbody tr th {\n",
       "        vertical-align: top;\n",
       "    }\n",
       "\n",
       "    .dataframe thead th {\n",
       "        text-align: right;\n",
       "    }\n",
       "</style>\n",
       "<table border=\"1\" class=\"dataframe\">\n",
       "  <thead>\n",
       "    <tr style=\"text-align: right;\">\n",
       "      <th></th>\n",
       "      <th>0</th>\n",
       "      <th>1</th>\n",
       "      <th>2</th>\n",
       "      <th>3</th>\n",
       "    </tr>\n",
       "  </thead>\n",
       "  <tbody>\n",
       "    <tr>\n",
       "      <th>2</th>\n",
       "      <td>4</td>\n",
       "      <td>7</td>\n",
       "      <td>8</td>\n",
       "      <td>2</td>\n",
       "    </tr>\n",
       "  </tbody>\n",
       "</table>\n",
       "</div>"
      ],
      "text/plain": [
       "   0  1  2  3\n",
       "2  4  7  8  2"
      ]
     },
     "execution_count": 69,
     "metadata": {},
     "output_type": "execute_result"
    }
   ],
   "source": [
    "mydf2[2:3]"
   ]
  },
  {
   "cell_type": "code",
   "execution_count": 70,
   "id": "13fb3008-e5f1-4283-aa90-f8685a38304a",
   "metadata": {},
   "outputs": [
    {
     "data": {
      "text/html": [
       "<div>\n",
       "<style scoped>\n",
       "    .dataframe tbody tr th:only-of-type {\n",
       "        vertical-align: middle;\n",
       "    }\n",
       "\n",
       "    .dataframe tbody tr th {\n",
       "        vertical-align: top;\n",
       "    }\n",
       "\n",
       "    .dataframe thead th {\n",
       "        text-align: right;\n",
       "    }\n",
       "</style>\n",
       "<table border=\"1\" class=\"dataframe\">\n",
       "  <thead>\n",
       "    <tr style=\"text-align: right;\">\n",
       "      <th></th>\n",
       "      <th>0</th>\n",
       "      <th>1</th>\n",
       "      <th>2</th>\n",
       "      <th>3</th>\n",
       "    </tr>\n",
       "  </thead>\n",
       "  <tbody>\n",
       "    <tr>\n",
       "      <th>0</th>\n",
       "      <td>1</td>\n",
       "      <td>2</td>\n",
       "      <td>5</td>\n",
       "      <td>6</td>\n",
       "    </tr>\n",
       "    <tr>\n",
       "      <th>1</th>\n",
       "      <td>2</td>\n",
       "      <td>8</td>\n",
       "      <td>5</td>\n",
       "      <td>9</td>\n",
       "    </tr>\n",
       "  </tbody>\n",
       "</table>\n",
       "</div>"
      ],
      "text/plain": [
       "   0  1  2  3\n",
       "0  1  2  5  6\n",
       "1  2  8  5  9"
      ]
     },
     "execution_count": 70,
     "metadata": {},
     "output_type": "execute_result"
    }
   ],
   "source": [
    "mydf2[0:2]"
   ]
  },
  {
   "cell_type": "code",
   "execution_count": 71,
   "id": "3c649a45-15a1-4d36-bfac-a804217e2441",
   "metadata": {},
   "outputs": [
    {
     "data": {
      "text/plain": [
       "0    2\n",
       "1    8\n",
       "2    5\n",
       "Name: 1, dtype: int64"
      ]
     },
     "execution_count": 71,
     "metadata": {},
     "output_type": "execute_result"
    }
   ],
   "source": [
    "mydf2.loc[1,0:2]"
   ]
  },
  {
   "cell_type": "markdown",
   "id": "e77e5fff-ceed-4910-a239-00383614a9a0",
   "metadata": {},
   "source": [
    "### Now working on auto.csv"
   ]
  },
  {
   "cell_type": "code",
   "execution_count": 72,
   "id": "ed7db61c-a34a-4a84-9175-a655317d84dd",
   "metadata": {},
   "outputs": [
    {
     "name": "stdout",
     "output_type": "stream",
     "text": [
      "      mpg  cylinders  displacement  horsepower  weight  acceleration  year  origin                                  name\n",
      "0    18.0          8         307.0         130    3504          12.0    70       1             chevrolet chevelle malibu\n",
      "1    15.0          8         350.0         165    3693          11.5    70       1                     buick skylark 320\n",
      "2    18.0          8         318.0         150    3436          11.0    70       1                    plymouth satellite\n",
      "3    16.0          8         304.0         150    3433          12.0    70       1                         amc rebel sst\n",
      "4    17.0          8         302.0         140    3449          10.5    70       1                           ford torino\n",
      "5    15.0          8         429.0         198    4341          10.0    70       1                      ford galaxie 500\n",
      "6    14.0          8         454.0         220    4354           9.0    70       1                      chevrolet impala\n",
      "7    14.0          8         440.0         215    4312           8.5    70       1                     plymouth fury iii\n",
      "8    14.0          8         455.0         225    4425          10.0    70       1                      pontiac catalina\n",
      "9    15.0          8         390.0         190    3850           8.5    70       1                    amc ambassador dpl\n",
      "10   15.0          8         383.0         170    3563          10.0    70       1                   dodge challenger se\n",
      "11   14.0          8         340.0         160    3609           8.0    70       1                    plymouth 'cuda 340\n",
      "12   15.0          8         400.0         150    3761           9.5    70       1                 chevrolet monte carlo\n",
      "13   14.0          8         455.0         225    3086          10.0    70       1               buick estate wagon (sw)\n",
      "14   24.0          4         113.0          95    2372          15.0    70       3                 toyota corona mark ii\n",
      "15   22.0          6         198.0          95    2833          15.5    70       1                       plymouth duster\n",
      "16   18.0          6         199.0          97    2774          15.5    70       1                            amc hornet\n",
      "17   21.0          6         200.0          85    2587          16.0    70       1                         ford maverick\n",
      "18   27.0          4          97.0          88    2130          14.5    70       3                          datsun pl510\n",
      "19   26.0          4          97.0          46    1835          20.5    70       2          volkswagen 1131 deluxe sedan\n",
      "20   25.0          4         110.0          87    2672          17.5    70       2                           peugeot 504\n",
      "21   24.0          4         107.0          90    2430          14.5    70       2                           audi 100 ls\n",
      "22   25.0          4         104.0          95    2375          17.5    70       2                              saab 99e\n",
      "23   26.0          4         121.0         113    2234          12.5    70       2                              bmw 2002\n",
      "24   21.0          6         199.0          90    2648          15.0    70       1                           amc gremlin\n",
      "25   10.0          8         360.0         215    4615          14.0    70       1                             ford f250\n",
      "26   10.0          8         307.0         200    4376          15.0    70       1                             chevy c20\n",
      "27   11.0          8         318.0         210    4382          13.5    70       1                            dodge d200\n",
      "28    9.0          8         304.0         193    4732          18.5    70       1                              hi 1200d\n",
      "29   27.0          4          97.0          88    2130          14.5    71       3                          datsun pl510\n",
      "30   28.0          4         140.0          90    2264          15.5    71       1                   chevrolet vega 2300\n",
      "31   25.0          4         113.0          95    2228          14.0    71       3                         toyota corona\n",
      "32   19.0          6         232.0         100    2634          13.0    71       1                           amc gremlin\n",
      "33   16.0          6         225.0         105    3439          15.5    71       1             plymouth satellite custom\n",
      "34   17.0          6         250.0         100    3329          15.5    71       1             chevrolet chevelle malibu\n",
      "35   19.0          6         250.0          88    3302          15.5    71       1                       ford torino 500\n",
      "36   18.0          6         232.0         100    3288          15.5    71       1                           amc matador\n",
      "37   14.0          8         350.0         165    4209          12.0    71       1                      chevrolet impala\n",
      "38   14.0          8         400.0         175    4464          11.5    71       1             pontiac catalina brougham\n",
      "39   14.0          8         351.0         153    4154          13.5    71       1                      ford galaxie 500\n",
      "40   14.0          8         318.0         150    4096          13.0    71       1                     plymouth fury iii\n",
      "41   12.0          8         383.0         180    4955          11.5    71       1                     dodge monaco (sw)\n",
      "42   13.0          8         400.0         170    4746          12.0    71       1              ford country squire (sw)\n",
      "43   13.0          8         400.0         175    5140          12.0    71       1                   pontiac safari (sw)\n",
      "44   18.0          6         258.0         110    2962          13.5    71       1            amc hornet sportabout (sw)\n",
      "45   22.0          4         140.0          72    2408          19.0    71       1                   chevrolet vega (sw)\n",
      "46   19.0          6         250.0         100    3282          15.0    71       1                      pontiac firebird\n",
      "47   18.0          6         250.0          88    3139          14.5    71       1                          ford mustang\n",
      "48   23.0          4         122.0          86    2220          14.0    71       1                    mercury capri 2000\n",
      "49   28.0          4         116.0          90    2123          14.0    71       2                             opel 1900\n",
      "50   30.0          4          79.0          70    2074          19.5    71       2                           peugeot 304\n",
      "51   30.0          4          88.0          76    2065          14.5    71       2                             fiat 124b\n",
      "52   31.0          4          71.0          65    1773          19.0    71       3                   toyota corolla 1200\n",
      "53   35.0          4          72.0          69    1613          18.0    71       3                           datsun 1200\n",
      "54   27.0          4          97.0          60    1834          19.0    71       2                  volkswagen model 111\n",
      "55   26.0          4          91.0          70    1955          20.5    71       1                      plymouth cricket\n",
      "56   24.0          4         113.0          95    2278          15.5    72       3                 toyota corona hardtop\n",
      "57   25.0          4          97.5          80    2126          17.0    72       1                    dodge colt hardtop\n",
      "58   23.0          4          97.0          54    2254          23.5    72       2                     volkswagen type 3\n",
      "59   20.0          4         140.0          90    2408          19.5    72       1                        chevrolet vega\n",
      "60   21.0          4         122.0          86    2226          16.5    72       1                   ford pinto runabout\n",
      "61   13.0          8         350.0         165    4274          12.0    72       1                      chevrolet impala\n",
      "62   14.0          8         400.0         175    4385          12.0    72       1                      pontiac catalina\n",
      "63   15.0          8         318.0         150    4135          13.5    72       1                     plymouth fury iii\n",
      "64   14.0          8         351.0         153    4129          13.0    72       1                      ford galaxie 500\n",
      "65   17.0          8         304.0         150    3672          11.5    72       1                    amc ambassador sst\n",
      "66   11.0          8         429.0         208    4633          11.0    72       1                       mercury marquis\n",
      "67   13.0          8         350.0         155    4502          13.5    72       1                  buick lesabre custom\n",
      "68   12.0          8         350.0         160    4456          13.5    72       1            oldsmobile delta 88 royale\n",
      "69   13.0          8         400.0         190    4422          12.5    72       1                chrysler newport royal\n",
      "70   19.0          3          70.0          97    2330          13.5    72       3                       mazda rx2 coupe\n",
      "71   15.0          8         304.0         150    3892          12.5    72       1                      amc matador (sw)\n",
      "72   13.0          8         307.0         130    4098          14.0    72       1      chevrolet chevelle concours (sw)\n",
      "73   13.0          8         302.0         140    4294          16.0    72       1                 ford gran torino (sw)\n",
      "74   14.0          8         318.0         150    4077          14.0    72       1        plymouth satellite custom (sw)\n",
      "75   18.0          4         121.0         112    2933          14.5    72       2                       volvo 145e (sw)\n",
      "76   22.0          4         121.0          76    2511          18.0    72       2                   volkswagen 411 (sw)\n",
      "77   21.0          4         120.0          87    2979          19.5    72       2                      peugeot 504 (sw)\n",
      "78   26.0          4          96.0          69    2189          18.0    72       2                       renault 12 (sw)\n",
      "79   22.0          4         122.0          86    2395          16.0    72       1                       ford pinto (sw)\n",
      "80   28.0          4          97.0          92    2288          17.0    72       3                       datsun 510 (sw)\n",
      "81   23.0          4         120.0          97    2506          14.5    72       3           toyouta corona mark ii (sw)\n",
      "82   28.0          4          98.0          80    2164          15.0    72       1                       dodge colt (sw)\n",
      "83   27.0          4          97.0          88    2100          16.5    72       3              toyota corolla 1600 (sw)\n",
      "84   13.0          8         350.0         175    4100          13.0    73       1                     buick century 350\n",
      "85   14.0          8         304.0         150    3672          11.5    73       1                           amc matador\n",
      "86   13.0          8         350.0         145    3988          13.0    73       1                      chevrolet malibu\n",
      "87   14.0          8         302.0         137    4042          14.5    73       1                      ford gran torino\n",
      "88   15.0          8         318.0         150    3777          12.5    73       1                  dodge coronet custom\n",
      "89   12.0          8         429.0         198    4952          11.5    73       1              mercury marquis brougham\n",
      "90   13.0          8         400.0         150    4464          12.0    73       1             chevrolet caprice classic\n",
      "91   13.0          8         351.0         158    4363          13.0    73       1                              ford ltd\n",
      "92   14.0          8         318.0         150    4237          14.5    73       1              plymouth fury gran sedan\n",
      "93   13.0          8         440.0         215    4735          11.0    73       1          chrysler new yorker brougham\n",
      "94   12.0          8         455.0         225    4951          11.0    73       1              buick electra 225 custom\n",
      "95   13.0          8         360.0         175    3821          11.0    73       1               amc ambassador brougham\n",
      "96   18.0          6         225.0         105    3121          16.5    73       1                      plymouth valiant\n",
      "97   16.0          6         250.0         100    3278          18.0    73       1                 chevrolet nova custom\n",
      "98   18.0          6         232.0         100    2945          16.0    73       1                            amc hornet\n",
      "99   18.0          6         250.0          88    3021          16.5    73       1                         ford maverick\n",
      "100  23.0          6         198.0          95    2904          16.0    73       1                       plymouth duster\n",
      "101  26.0          4          97.0          46    1950          21.0    73       2               volkswagen super beetle\n",
      "102  11.0          8         400.0         150    4997          14.0    73       1                      chevrolet impala\n",
      "103  12.0          8         400.0         167    4906          12.5    73       1                          ford country\n",
      "104  13.0          8         360.0         170    4654          13.0    73       1                plymouth custom suburb\n",
      "105  12.0          8         350.0         180    4499          12.5    73       1              oldsmobile vista cruiser\n",
      "106  18.0          6         232.0         100    2789          15.0    73       1                           amc gremlin\n",
      "107  20.0          4          97.0          88    2279          19.0    73       3                         toyota carina\n",
      "108  21.0          4         140.0          72    2401          19.5    73       1                        chevrolet vega\n",
      "109  22.0          4         108.0          94    2379          16.5    73       3                            datsun 610\n",
      "110  18.0          3          70.0          90    2124          13.5    73       3                             maxda rx3\n",
      "111  19.0          4         122.0          85    2310          18.5    73       1                            ford pinto\n",
      "112  21.0          6         155.0         107    2472          14.0    73       1                      mercury capri v6\n",
      "113  26.0          4          98.0          90    2265          15.5    73       2                  fiat 124 sport coupe\n",
      "114  15.0          8         350.0         145    4082          13.0    73       1               chevrolet monte carlo s\n",
      "115  16.0          8         400.0         230    4278           9.5    73       1                    pontiac grand prix\n",
      "116  29.0          4          68.0          49    1867          19.5    73       2                              fiat 128\n",
      "117  24.0          4         116.0          75    2158          15.5    73       2                            opel manta\n",
      "118  20.0          4         114.0          91    2582          14.0    73       2                            audi 100ls\n",
      "119  19.0          4         121.0         112    2868          15.5    73       2                           volvo 144ea\n",
      "120  15.0          8         318.0         150    3399          11.0    73       1                     dodge dart custom\n",
      "121  24.0          4         121.0         110    2660          14.0    73       2                             saab 99le\n",
      "122  20.0          6         156.0         122    2807          13.5    73       3                        toyota mark ii\n",
      "123  11.0          8         350.0         180    3664          11.0    73       1                      oldsmobile omega\n",
      "124  20.0          6         198.0          95    3102          16.5    74       1                       plymouth duster\n",
      "125  19.0          6         232.0         100    2901          16.0    74       1                            amc hornet\n",
      "126  15.0          6         250.0         100    3336          17.0    74       1                        chevrolet nova\n",
      "127  31.0          4          79.0          67    1950          19.0    74       3                           datsun b210\n",
      "128  26.0          4         122.0          80    2451          16.5    74       1                            ford pinto\n",
      "129  32.0          4          71.0          65    1836          21.0    74       3                   toyota corolla 1200\n",
      "130  25.0          4         140.0          75    2542          17.0    74       1                        chevrolet vega\n",
      "131  16.0          6         250.0         100    3781          17.0    74       1     chevrolet chevelle malibu classic\n",
      "132  16.0          6         258.0         110    3632          18.0    74       1                           amc matador\n",
      "133  18.0          6         225.0         105    3613          16.5    74       1            plymouth satellite sebring\n",
      "134  16.0          8         302.0         140    4141          14.0    74       1                      ford gran torino\n",
      "135  13.0          8         350.0         150    4699          14.5    74       1              buick century luxus (sw)\n",
      "136  14.0          8         318.0         150    4457          13.5    74       1             dodge coronet custom (sw)\n",
      "137  14.0          8         302.0         140    4638          16.0    74       1                 ford gran torino (sw)\n",
      "138  14.0          8         304.0         150    4257          15.5    74       1                      amc matador (sw)\n",
      "139  29.0          4          98.0          83    2219          16.5    74       2                              audi fox\n",
      "140  26.0          4          79.0          67    1963          15.5    74       2                     volkswagen dasher\n",
      "141  26.0          4          97.0          78    2300          14.5    74       2                            opel manta\n",
      "142  31.0          4          76.0          52    1649          16.5    74       3                         toyota corona\n",
      "143  32.0          4          83.0          61    2003          19.0    74       3                            datsun 710\n",
      "144  28.0          4          90.0          75    2125          14.5    74       1                            dodge colt\n",
      "145  24.0          4          90.0          75    2108          15.5    74       2                              fiat 128\n",
      "146  26.0          4         116.0          75    2246          14.0    74       2                           fiat 124 tc\n",
      "147  24.0          4         120.0          97    2489          15.0    74       3                           honda civic\n",
      "148  26.0          4         108.0          93    2391          15.5    74       3                                subaru\n",
      "149  31.0          4          79.0          67    2000          16.0    74       2                             fiat x1.9\n",
      "150  19.0          6         225.0          95    3264          16.0    75       1               plymouth valiant custom\n",
      "151  18.0          6         250.0         105    3459          16.0    75       1                        chevrolet nova\n",
      "152  15.0          6         250.0          72    3432          21.0    75       1                       mercury monarch\n",
      "153  15.0          6         250.0          72    3158          19.5    75       1                         ford maverick\n",
      "154  16.0          8         400.0         170    4668          11.5    75       1                      pontiac catalina\n",
      "155  15.0          8         350.0         145    4440          14.0    75       1                     chevrolet bel air\n",
      "156  16.0          8         318.0         150    4498          14.5    75       1                   plymouth grand fury\n",
      "157  14.0          8         351.0         148    4657          13.5    75       1                              ford ltd\n",
      "158  17.0          6         231.0         110    3907          21.0    75       1                         buick century\n",
      "159  16.0          6         250.0         105    3897          18.5    75       1             chevroelt chevelle malibu\n",
      "160  15.0          6         258.0         110    3730          19.0    75       1                           amc matador\n",
      "161  18.0          6         225.0          95    3785          19.0    75       1                         plymouth fury\n",
      "162  21.0          6         231.0         110    3039          15.0    75       1                         buick skyhawk\n",
      "163  20.0          8         262.0         110    3221          13.5    75       1                   chevrolet monza 2+2\n",
      "164  13.0          8         302.0         129    3169          12.0    75       1                       ford mustang ii\n",
      "165  29.0          4          97.0          75    2171          16.0    75       3                        toyota corolla\n",
      "166  23.0          4         140.0          83    2639          17.0    75       1                            ford pinto\n",
      "167  20.0          6         232.0         100    2914          16.0    75       1                           amc gremlin\n",
      "168  23.0          4         140.0          78    2592          18.5    75       1                         pontiac astro\n",
      "169  24.0          4         134.0          96    2702          13.5    75       3                         toyota corona\n",
      "170  25.0          4          90.0          71    2223          16.5    75       2                     volkswagen dasher\n",
      "171  24.0          4         119.0          97    2545          17.0    75       3                            datsun 710\n",
      "172  18.0          6         171.0          97    2984          14.5    75       1                            ford pinto\n",
      "173  29.0          4          90.0          70    1937          14.0    75       2                     volkswagen rabbit\n",
      "174  19.0          6         232.0          90    3211          17.0    75       1                             amc pacer\n",
      "175  23.0          4         115.0          95    2694          15.0    75       2                            audi 100ls\n",
      "176  23.0          4         120.0          88    2957          17.0    75       2                           peugeot 504\n",
      "177  22.0          4         121.0          98    2945          14.5    75       2                           volvo 244dl\n",
      "178  25.0          4         121.0         115    2671          13.5    75       2                             saab 99le\n",
      "179  33.0          4          91.0          53    1795          17.5    75       3                      honda civic cvcc\n",
      "180  28.0          4         107.0          86    2464          15.5    76       2                              fiat 131\n",
      "181  25.0          4         116.0          81    2220          16.9    76       2                             opel 1900\n",
      "182  25.0          4         140.0          92    2572          14.9    76       1                              capri ii\n",
      "183  26.0          4          98.0          79    2255          17.7    76       1                            dodge colt\n",
      "184  27.0          4         101.0          83    2202          15.3    76       2                          renault 12tl\n",
      "185  17.5          8         305.0         140    4215          13.0    76       1     chevrolet chevelle malibu classic\n",
      "186  16.0          8         318.0         150    4190          13.0    76       1                dodge coronet brougham\n",
      "187  15.5          8         304.0         120    3962          13.9    76       1                           amc matador\n",
      "188  14.5          8         351.0         152    4215          12.8    76       1                      ford gran torino\n",
      "189  22.0          6         225.0         100    3233          15.4    76       1                      plymouth valiant\n",
      "190  22.0          6         250.0         105    3353          14.5    76       1                        chevrolet nova\n",
      "191  24.0          6         200.0          81    3012          17.6    76       1                         ford maverick\n",
      "192  22.5          6         232.0          90    3085          17.6    76       1                            amc hornet\n",
      "193  29.0          4          85.0          52    2035          22.2    76       1                    chevrolet chevette\n",
      "194  24.5          4          98.0          60    2164          22.1    76       1                       chevrolet woody\n",
      "195  29.0          4          90.0          70    1937          14.2    76       2                             vw rabbit\n",
      "196  33.0          4          91.0          53    1795          17.4    76       3                           honda civic\n",
      "197  20.0          6         225.0         100    3651          17.7    76       1                        dodge aspen se\n",
      "198  18.0          6         250.0          78    3574          21.0    76       1                     ford granada ghia\n",
      "199  18.5          6         250.0         110    3645          16.2    76       1                    pontiac ventura sj\n",
      "200  17.5          6         258.0          95    3193          17.8    76       1                         amc pacer d/l\n",
      "201  29.5          4          97.0          71    1825          12.2    76       2                     volkswagen rabbit\n",
      "202  32.0          4          85.0          70    1990          17.0    76       3                          datsun b-210\n",
      "203  28.0          4          97.0          75    2155          16.4    76       3                        toyota corolla\n",
      "204  26.5          4         140.0          72    2565          13.6    76       1                            ford pinto\n",
      "205  20.0          4         130.0         102    3150          15.7    76       2                             volvo 245\n",
      "206  13.0          8         318.0         150    3940          13.2    76       1            plymouth volare premier v8\n",
      "207  19.0          4         120.0          88    3270          21.9    76       2                           peugeot 504\n",
      "208  19.0          6         156.0         108    2930          15.5    76       3                        toyota mark ii\n",
      "209  16.5          6         168.0         120    3820          16.7    76       2                    mercedes-benz 280s\n",
      "210  16.5          8         350.0         180    4380          12.1    76       1                      cadillac seville\n",
      "211  13.0          8         350.0         145    4055          12.0    76       1                             chevy c10\n",
      "212  13.0          8         302.0         130    3870          15.0    76       1                             ford f108\n",
      "213  13.0          8         318.0         150    3755          14.0    76       1                            dodge d100\n",
      "214  31.5          4          98.0          68    2045          18.5    77       3                     honda accord cvcc\n",
      "215  30.0          4         111.0          80    2155          14.8    77       1               buick opel isuzu deluxe\n",
      "216  36.0          4          79.0          58    1825          18.6    77       2                         renault 5 gtl\n",
      "217  25.5          4         122.0          96    2300          15.5    77       1                     plymouth arrow gs\n",
      "218  33.5          4          85.0          70    1945          16.8    77       3                 datsun f-10 hatchback\n",
      "219  17.5          8         305.0         145    3880          12.5    77       1             chevrolet caprice classic\n",
      "220  17.0          8         260.0         110    4060          19.0    77       1            oldsmobile cutlass supreme\n",
      "221  15.5          8         318.0         145    4140          13.7    77       1                 dodge monaco brougham\n",
      "222  15.0          8         302.0         130    4295          14.9    77       1               mercury cougar brougham\n",
      "223  17.5          6         250.0         110    3520          16.4    77       1                    chevrolet concours\n",
      "224  20.5          6         231.0         105    3425          16.9    77       1                         buick skylark\n",
      "225  19.0          6         225.0         100    3630          17.7    77       1                plymouth volare custom\n",
      "226  18.5          6         250.0          98    3525          19.0    77       1                          ford granada\n",
      "227  16.0          8         400.0         180    4220          11.1    77       1                 pontiac grand prix lj\n",
      "228  15.5          8         350.0         170    4165          11.4    77       1          chevrolet monte carlo landau\n",
      "229  15.5          8         400.0         190    4325          12.2    77       1                      chrysler cordoba\n",
      "230  16.0          8         351.0         149    4335          14.5    77       1                      ford thunderbird\n",
      "231  29.0          4          97.0          78    1940          14.5    77       2              volkswagen rabbit custom\n",
      "232  24.5          4         151.0          88    2740          16.0    77       1                 pontiac sunbird coupe\n",
      "233  26.0          4          97.0          75    2265          18.2    77       3               toyota corolla liftback\n",
      "234  25.5          4         140.0          89    2755          15.8    77       1                   ford mustang ii 2+2\n",
      "235  30.5          4          98.0          63    2051          17.0    77       1                    chevrolet chevette\n",
      "236  33.5          4          98.0          83    2075          15.9    77       1                        dodge colt m/m\n",
      "237  30.0          4          97.0          67    1985          16.4    77       3                             subaru dl\n",
      "238  30.5          4          97.0          78    2190          14.1    77       2                     volkswagen dasher\n",
      "239  22.0          6         146.0          97    2815          14.5    77       3                            datsun 810\n",
      "240  21.5          4         121.0         110    2600          12.8    77       2                              bmw 320i\n",
      "241  21.5          3          80.0         110    2720          13.5    77       3                            mazda rx-4\n",
      "242  43.1          4          90.0          48    1985          21.5    78       2       volkswagen rabbit custom diesel\n",
      "243  36.1          4          98.0          66    1800          14.4    78       1                           ford fiesta\n",
      "244  32.8          4          78.0          52    1985          19.4    78       3                      mazda glc deluxe\n",
      "245  39.4          4          85.0          70    2070          18.6    78       3                        datsun b210 gx\n",
      "246  36.1          4          91.0          60    1800          16.4    78       3                      honda civic cvcc\n",
      "247  19.9          8         260.0         110    3365          15.5    78       1     oldsmobile cutlass salon brougham\n",
      "248  19.4          8         318.0         140    3735          13.2    78       1                        dodge diplomat\n",
      "249  20.2          8         302.0         139    3570          12.8    78       1                  mercury monarch ghia\n",
      "250  19.2          6         231.0         105    3535          19.2    78       1                    pontiac phoenix lj\n",
      "251  20.5          6         200.0          95    3155          18.2    78       1                      chevrolet malibu\n",
      "252  20.2          6         200.0          85    2965          15.8    78       1                  ford fairmont (auto)\n",
      "253  25.1          4         140.0          88    2720          15.4    78       1                   ford fairmont (man)\n",
      "254  20.5          6         225.0         100    3430          17.2    78       1                       plymouth volare\n",
      "255  19.4          6         232.0          90    3210          17.2    78       1                           amc concord\n",
      "256  20.6          6         231.0         105    3380          15.8    78       1                 buick century special\n",
      "257  20.8          6         200.0          85    3070          16.7    78       1                        mercury zephyr\n",
      "258  18.6          6         225.0         110    3620          18.7    78       1                           dodge aspen\n",
      "259  18.1          6         258.0         120    3410          15.1    78       1                       amc concord d/l\n",
      "260  19.2          8         305.0         145    3425          13.2    78       1          chevrolet monte carlo landau\n",
      "261  17.7          6         231.0         165    3445          13.4    78       1       buick regal sport coupe (turbo)\n",
      "262  18.1          8         302.0         139    3205          11.2    78       1                           ford futura\n",
      "263  17.5          8         318.0         140    4080          13.7    78       1                       dodge magnum xe\n",
      "264  30.0          4          98.0          68    2155          16.5    78       1                    chevrolet chevette\n",
      "265  27.5          4         134.0          95    2560          14.2    78       3                         toyota corona\n",
      "266  27.2          4         119.0          97    2300          14.7    78       3                            datsun 510\n",
      "267  30.9          4         105.0          75    2230          14.5    78       1                            dodge omni\n",
      "268  21.1          4         134.0          95    2515          14.8    78       3             toyota celica gt liftback\n",
      "269  23.2          4         156.0         105    2745          16.7    78       1                      plymouth sapporo\n",
      "270  23.8          4         151.0          85    2855          17.6    78       1                oldsmobile starfire sx\n",
      "271  23.9          4         119.0          97    2405          14.9    78       3                         datsun 200-sx\n",
      "272  20.3          5         131.0         103    2830          15.9    78       2                             audi 5000\n",
      "273  17.0          6         163.0         125    3140          13.6    78       2                           volvo 264gl\n",
      "274  21.6          4         121.0         115    2795          15.7    78       2                            saab 99gle\n",
      "275  16.2          6         163.0         133    3410          15.8    78       2                         peugeot 604sl\n",
      "276  31.5          4          89.0          71    1990          14.9    78       2                   volkswagen scirocco\n",
      "277  29.5          4          98.0          68    2135          16.6    78       3                       honda accord lx\n",
      "278  21.5          6         231.0         115    3245          15.4    79       1                     pontiac lemans v6\n",
      "279  19.8          6         200.0          85    2990          18.2    79       1                      mercury zephyr 6\n",
      "280  22.3          4         140.0          88    2890          17.3    79       1                       ford fairmont 4\n",
      "281  20.2          6         232.0          90    3265          18.2    79       1                      amc concord dl 6\n",
      "282  20.6          6         225.0         110    3360          16.6    79       1                         dodge aspen 6\n",
      "283  17.0          8         305.0         130    3840          15.4    79       1             chevrolet caprice classic\n",
      "284  17.6          8         302.0         129    3725          13.4    79       1                       ford ltd landau\n",
      "285  16.5          8         351.0         138    3955          13.2    79       1                 mercury grand marquis\n",
      "286  18.2          8         318.0         135    3830          15.2    79       1                       dodge st. regis\n",
      "287  16.9          8         350.0         155    4360          14.9    79       1               buick estate wagon (sw)\n",
      "288  15.5          8         351.0         142    4054          14.3    79       1              ford country squire (sw)\n",
      "289  19.2          8         267.0         125    3605          15.0    79       1         chevrolet malibu classic (sw)\n",
      "290  18.5          8         360.0         150    3940          13.0    79       1  chrysler lebaron town @ country (sw)\n",
      "291  31.9          4          89.0          71    1925          14.0    79       2                      vw rabbit custom\n",
      "292  34.1          4          86.0          65    1975          15.2    79       3                      maxda glc deluxe\n",
      "293  35.7          4          98.0          80    1915          14.4    79       1           dodge colt hatchback custom\n",
      "294  27.4          4         121.0          80    2670          15.0    79       1                         amc spirit dl\n",
      "295  25.4          5         183.0          77    3530          20.1    79       2                    mercedes benz 300d\n",
      "296  23.0          8         350.0         125    3900          17.4    79       1                     cadillac eldorado\n",
      "297  27.2          4         141.0          71    3190          24.8    79       2                           peugeot 504\n",
      "298  23.9          8         260.0          90    3420          22.2    79       1     oldsmobile cutlass salon brougham\n",
      "299  34.2          4         105.0          70    2200          13.2    79       1                      plymouth horizon\n",
      "300  34.5          4         105.0          70    2150          14.9    79       1                  plymouth horizon tc3\n",
      "301  31.8          4          85.0          65    2020          19.2    79       3                            datsun 210\n",
      "302  37.3          4          91.0          69    2130          14.7    79       2                    fiat strada custom\n",
      "303  28.4          4         151.0          90    2670          16.0    79       1                 buick skylark limited\n",
      "304  28.8          6         173.0         115    2595          11.3    79       1                    chevrolet citation\n",
      "305  26.8          6         173.0         115    2700          12.9    79       1             oldsmobile omega brougham\n",
      "306  33.5          4         151.0          90    2556          13.2    79       1                       pontiac phoenix\n",
      "307  41.5          4          98.0          76    2144          14.7    80       2                             vw rabbit\n",
      "308  38.1          4          89.0          60    1968          18.8    80       3                 toyota corolla tercel\n",
      "309  32.1          4          98.0          70    2120          15.5    80       1                    chevrolet chevette\n",
      "310  37.2          4          86.0          65    2019          16.4    80       3                            datsun 310\n",
      "311  28.0          4         151.0          90    2678          16.5    80       1                    chevrolet citation\n",
      "312  26.4          4         140.0          88    2870          18.1    80       1                         ford fairmont\n",
      "313  24.3          4         151.0          90    3003          20.1    80       1                           amc concord\n",
      "314  19.1          6         225.0          90    3381          18.7    80       1                           dodge aspen\n",
      "315  34.3          4          97.0          78    2188          15.8    80       2                             audi 4000\n",
      "316  29.8          4         134.0          90    2711          15.5    80       3                toyota corona liftback\n",
      "317  31.3          4         120.0          75    2542          17.5    80       3                             mazda 626\n",
      "318  37.0          4         119.0          92    2434          15.0    80       3                  datsun 510 hatchback\n",
      "319  32.2          4         108.0          75    2265          15.2    80       3                        toyota corolla\n",
      "320  46.6          4          86.0          65    2110          17.9    80       3                             mazda glc\n",
      "321  27.9          4         156.0         105    2800          14.4    80       1                            dodge colt\n",
      "322  40.8          4          85.0          65    2110          19.2    80       3                            datsun 210\n",
      "323  44.3          4          90.0          48    2085          21.7    80       2                  vw rabbit c (diesel)\n",
      "324  43.4          4          90.0          48    2335          23.7    80       2                    vw dasher (diesel)\n",
      "325  36.4          5         121.0          67    2950          19.9    80       2                   audi 5000s (diesel)\n",
      "326  30.0          4         146.0          67    3250          21.8    80       2                    mercedes-benz 240d\n",
      "327  44.6          4          91.0          67    1850          13.8    80       3                   honda civic 1500 gl\n",
      "328  33.8          4          97.0          67    2145          18.0    80       3                             subaru dl\n",
      "329  29.8          4          89.0          62    1845          15.3    80       2                      vokswagen rabbit\n",
      "330  32.7          6         168.0         132    2910          11.4    80       3                         datsun 280-zx\n",
      "331  23.7          3          70.0         100    2420          12.5    80       3                         mazda rx-7 gs\n",
      "332  35.0          4         122.0          88    2500          15.1    80       2                     triumph tr7 coupe\n",
      "333  32.4          4         107.0          72    2290          17.0    80       3                          honda accord\n",
      "334  27.2          4         135.0          84    2490          15.7    81       1                      plymouth reliant\n",
      "335  26.6          4         151.0          84    2635          16.4    81       1                         buick skylark\n",
      "336  25.8          4         156.0          92    2620          14.4    81       1                dodge aries wagon (sw)\n",
      "337  23.5          6         173.0         110    2725          12.6    81       1                    chevrolet citation\n",
      "338  30.0          4         135.0          84    2385          12.9    81       1                      plymouth reliant\n",
      "339  39.1          4          79.0          58    1755          16.9    81       3                        toyota starlet\n",
      "340  39.0          4          86.0          64    1875          16.4    81       1                        plymouth champ\n",
      "341  35.1          4          81.0          60    1760          16.1    81       3                      honda civic 1300\n",
      "342  32.3          4          97.0          67    2065          17.8    81       3                                subaru\n",
      "343  37.0          4          85.0          65    1975          19.4    81       3                        datsun 210 mpg\n",
      "344  37.7          4          89.0          62    2050          17.3    81       3                         toyota tercel\n",
      "345  34.1          4          91.0          68    1985          16.0    81       3                           mazda glc 4\n",
      "346  34.7          4         105.0          63    2215          14.9    81       1                    plymouth horizon 4\n",
      "347  34.4          4          98.0          65    2045          16.2    81       1                        ford escort 4w\n",
      "348  29.9          4          98.0          65    2380          20.7    81       1                        ford escort 2h\n",
      "349  33.0          4         105.0          74    2190          14.2    81       2                      volkswagen jetta\n",
      "350  33.7          4         107.0          75    2210          14.4    81       3                         honda prelude\n",
      "351  32.4          4         108.0          75    2350          16.8    81       3                        toyota corolla\n",
      "352  32.9          4         119.0         100    2615          14.8    81       3                          datsun 200sx\n",
      "353  31.6          4         120.0          74    2635          18.3    81       3                             mazda 626\n",
      "354  28.1          4         141.0          80    3230          20.4    81       2             peugeot 505s turbo diesel\n",
      "355  30.7          6         145.0          76    3160          19.6    81       2                          volvo diesel\n",
      "356  25.4          6         168.0         116    2900          12.6    81       3                       toyota cressida\n",
      "357  24.2          6         146.0         120    2930          13.8    81       3                     datsun 810 maxima\n",
      "358  22.4          6         231.0         110    3415          15.8    81       1                         buick century\n",
      "359  26.6          8         350.0         105    3725          19.0    81       1                 oldsmobile cutlass ls\n",
      "360  20.2          6         200.0          88    3060          17.1    81       1                       ford granada gl\n",
      "361  17.6          6         225.0          85    3465          16.6    81       1                chrysler lebaron salon\n",
      "362  28.0          4         112.0          88    2605          19.6    82       1                    chevrolet cavalier\n",
      "363  27.0          4         112.0          88    2640          18.6    82       1              chevrolet cavalier wagon\n",
      "364  34.0          4         112.0          88    2395          18.0    82       1             chevrolet cavalier 2-door\n",
      "365  31.0          4         112.0          85    2575          16.2    82       1            pontiac j2000 se hatchback\n",
      "366  29.0          4         135.0          84    2525          16.0    82       1                        dodge aries se\n",
      "367  27.0          4         151.0          90    2735          18.0    82       1                       pontiac phoenix\n",
      "368  24.0          4         140.0          92    2865          16.4    82       1                  ford fairmont futura\n",
      "369  36.0          4         105.0          74    1980          15.3    82       2                   volkswagen rabbit l\n",
      "370  37.0          4          91.0          68    2025          18.2    82       3                    mazda glc custom l\n",
      "371  31.0          4          91.0          68    1970          17.6    82       3                      mazda glc custom\n",
      "372  38.0          4         105.0          63    2125          14.7    82       1                plymouth horizon miser\n",
      "373  36.0          4          98.0          70    2125          17.3    82       1                        mercury lynx l\n",
      "374  36.0          4         120.0          88    2160          14.5    82       3                      nissan stanza xe\n",
      "375  36.0          4         107.0          75    2205          14.5    82       3                          honda accord\n",
      "376  34.0          4         108.0          70    2245          16.9    82       3                        toyota corolla\n",
      "377  38.0          4          91.0          67    1965          15.0    82       3                           honda civic\n",
      "378  32.0          4          91.0          67    1965          15.7    82       3                    honda civic (auto)\n",
      "379  38.0          4          91.0          67    1995          16.2    82       3                         datsun 310 gx\n",
      "380  25.0          6         181.0         110    2945          16.4    82       1                 buick century limited\n",
      "381  38.0          6         262.0          85    3015          17.0    82       1     oldsmobile cutlass ciera (diesel)\n",
      "382  26.0          4         156.0          92    2585          14.5    82       1            chrysler lebaron medallion\n",
      "383  22.0          6         232.0         112    2835          14.7    82       1                        ford granada l\n",
      "384  32.0          4         144.0          96    2665          13.9    82       3                      toyota celica gt\n",
      "385  36.0          4         135.0          84    2370          13.0    82       1                     dodge charger 2.2\n",
      "386  27.0          4         151.0          90    2950          17.3    82       1                      chevrolet camaro\n",
      "387  27.0          4         140.0          86    2790          15.6    82       1                       ford mustang gl\n",
      "388  44.0          4          97.0          52    2130          24.6    82       2                             vw pickup\n",
      "389  32.0          4         135.0          84    2295          11.6    82       1                         dodge rampage\n",
      "390  28.0          4         120.0          79    2625          18.6    82       1                           ford ranger\n",
      "391  31.0          4         119.0          82    2720          19.4    82       1                            chevy s-10\n"
     ]
    }
   ],
   "source": [
    "df = pd.read_csv(\"Auto.csv\")\n",
    "print(df.to_string())"
   ]
  },
  {
   "cell_type": "code",
   "execution_count": 73,
   "id": "7cd09a4f-1c36-41a9-92ce-c13ad9aca80c",
   "metadata": {},
   "outputs": [
    {
     "data": {
      "text/plain": [
       "pandas.core.frame.DataFrame"
      ]
     },
     "execution_count": 73,
     "metadata": {},
     "output_type": "execute_result"
    }
   ],
   "source": [
    "type(df)"
   ]
  },
  {
   "cell_type": "code",
   "execution_count": 74,
   "id": "c4e446be-004b-4539-9a67-5dfb42ab3f45",
   "metadata": {},
   "outputs": [
    {
     "data": {
      "text/html": [
       "<div>\n",
       "<style scoped>\n",
       "    .dataframe tbody tr th:only-of-type {\n",
       "        vertical-align: middle;\n",
       "    }\n",
       "\n",
       "    .dataframe tbody tr th {\n",
       "        vertical-align: top;\n",
       "    }\n",
       "\n",
       "    .dataframe thead th {\n",
       "        text-align: right;\n",
       "    }\n",
       "</style>\n",
       "<table border=\"1\" class=\"dataframe\">\n",
       "  <thead>\n",
       "    <tr style=\"text-align: right;\">\n",
       "      <th></th>\n",
       "      <th>mpg</th>\n",
       "      <th>cylinders</th>\n",
       "      <th>displacement</th>\n",
       "      <th>horsepower</th>\n",
       "      <th>weight</th>\n",
       "      <th>acceleration</th>\n",
       "      <th>year</th>\n",
       "      <th>origin</th>\n",
       "      <th>name</th>\n",
       "    </tr>\n",
       "  </thead>\n",
       "  <tbody>\n",
       "    <tr>\n",
       "      <th>0</th>\n",
       "      <td>18.0</td>\n",
       "      <td>8</td>\n",
       "      <td>307.0</td>\n",
       "      <td>130</td>\n",
       "      <td>3504</td>\n",
       "      <td>12.0</td>\n",
       "      <td>70</td>\n",
       "      <td>1</td>\n",
       "      <td>chevrolet chevelle malibu</td>\n",
       "    </tr>\n",
       "    <tr>\n",
       "      <th>1</th>\n",
       "      <td>15.0</td>\n",
       "      <td>8</td>\n",
       "      <td>350.0</td>\n",
       "      <td>165</td>\n",
       "      <td>3693</td>\n",
       "      <td>11.5</td>\n",
       "      <td>70</td>\n",
       "      <td>1</td>\n",
       "      <td>buick skylark 320</td>\n",
       "    </tr>\n",
       "    <tr>\n",
       "      <th>2</th>\n",
       "      <td>18.0</td>\n",
       "      <td>8</td>\n",
       "      <td>318.0</td>\n",
       "      <td>150</td>\n",
       "      <td>3436</td>\n",
       "      <td>11.0</td>\n",
       "      <td>70</td>\n",
       "      <td>1</td>\n",
       "      <td>plymouth satellite</td>\n",
       "    </tr>\n",
       "    <tr>\n",
       "      <th>3</th>\n",
       "      <td>16.0</td>\n",
       "      <td>8</td>\n",
       "      <td>304.0</td>\n",
       "      <td>150</td>\n",
       "      <td>3433</td>\n",
       "      <td>12.0</td>\n",
       "      <td>70</td>\n",
       "      <td>1</td>\n",
       "      <td>amc rebel sst</td>\n",
       "    </tr>\n",
       "    <tr>\n",
       "      <th>4</th>\n",
       "      <td>17.0</td>\n",
       "      <td>8</td>\n",
       "      <td>302.0</td>\n",
       "      <td>140</td>\n",
       "      <td>3449</td>\n",
       "      <td>10.5</td>\n",
       "      <td>70</td>\n",
       "      <td>1</td>\n",
       "      <td>ford torino</td>\n",
       "    </tr>\n",
       "  </tbody>\n",
       "</table>\n",
       "</div>"
      ],
      "text/plain": [
       "    mpg  cylinders  displacement  horsepower  weight  acceleration  year  \\\n",
       "0  18.0          8         307.0         130    3504          12.0    70   \n",
       "1  15.0          8         350.0         165    3693          11.5    70   \n",
       "2  18.0          8         318.0         150    3436          11.0    70   \n",
       "3  16.0          8         304.0         150    3433          12.0    70   \n",
       "4  17.0          8         302.0         140    3449          10.5    70   \n",
       "\n",
       "   origin                       name  \n",
       "0       1  chevrolet chevelle malibu  \n",
       "1       1          buick skylark 320  \n",
       "2       1         plymouth satellite  \n",
       "3       1              amc rebel sst  \n",
       "4       1                ford torino  "
      ]
     },
     "execution_count": 74,
     "metadata": {},
     "output_type": "execute_result"
    }
   ],
   "source": [
    "# First couple of rows\n",
    "df.head()"
   ]
  },
  {
   "cell_type": "code",
   "execution_count": 76,
   "id": "aa7f1594-0401-447d-a89c-c3a3359ef54a",
   "metadata": {},
   "outputs": [
    {
     "data": {
      "text/plain": [
       "(392, 9)"
      ]
     },
     "execution_count": 76,
     "metadata": {},
     "output_type": "execute_result"
    }
   ],
   "source": [
    "df.shape # 392 rows, 9 columns"
   ]
  },
  {
   "cell_type": "code",
   "execution_count": 77,
   "id": "66094017-1d6f-4253-b27c-fec7629f983d",
   "metadata": {},
   "outputs": [
    {
     "name": "stdout",
     "output_type": "stream",
     "text": [
      "<class 'pandas.core.frame.DataFrame'>\n",
      "RangeIndex: 392 entries, 0 to 391\n",
      "Data columns (total 9 columns):\n",
      " #   Column        Non-Null Count  Dtype  \n",
      "---  ------        --------------  -----  \n",
      " 0   mpg           392 non-null    float64\n",
      " 1   cylinders     392 non-null    int64  \n",
      " 2   displacement  392 non-null    float64\n",
      " 3   horsepower    392 non-null    int64  \n",
      " 4   weight        392 non-null    int64  \n",
      " 5   acceleration  392 non-null    float64\n",
      " 6   year          392 non-null    int64  \n",
      " 7   origin        392 non-null    int64  \n",
      " 8   name          392 non-null    object \n",
      "dtypes: float64(3), int64(5), object(1)\n",
      "memory usage: 27.7+ KB\n"
     ]
    }
   ],
   "source": [
    "df.info()"
   ]
  },
  {
   "cell_type": "code",
   "execution_count": 78,
   "id": "7a6ed0ab-e758-4b80-bcb3-746fb6a2c7c7",
   "metadata": {},
   "outputs": [
    {
     "data": {
      "text/html": [
       "<div>\n",
       "<style scoped>\n",
       "    .dataframe tbody tr th:only-of-type {\n",
       "        vertical-align: middle;\n",
       "    }\n",
       "\n",
       "    .dataframe tbody tr th {\n",
       "        vertical-align: top;\n",
       "    }\n",
       "\n",
       "    .dataframe thead th {\n",
       "        text-align: right;\n",
       "    }\n",
       "</style>\n",
       "<table border=\"1\" class=\"dataframe\">\n",
       "  <thead>\n",
       "    <tr style=\"text-align: right;\">\n",
       "      <th></th>\n",
       "      <th>mpg</th>\n",
       "      <th>cylinders</th>\n",
       "      <th>displacement</th>\n",
       "      <th>horsepower</th>\n",
       "      <th>weight</th>\n",
       "      <th>acceleration</th>\n",
       "      <th>year</th>\n",
       "      <th>origin</th>\n",
       "    </tr>\n",
       "  </thead>\n",
       "  <tbody>\n",
       "    <tr>\n",
       "      <th>count</th>\n",
       "      <td>392.000000</td>\n",
       "      <td>392.000000</td>\n",
       "      <td>392.000000</td>\n",
       "      <td>392.000000</td>\n",
       "      <td>392.000000</td>\n",
       "      <td>392.000000</td>\n",
       "      <td>392.000000</td>\n",
       "      <td>392.000000</td>\n",
       "    </tr>\n",
       "    <tr>\n",
       "      <th>mean</th>\n",
       "      <td>23.445918</td>\n",
       "      <td>5.471939</td>\n",
       "      <td>194.411990</td>\n",
       "      <td>104.469388</td>\n",
       "      <td>2977.584184</td>\n",
       "      <td>15.541327</td>\n",
       "      <td>75.979592</td>\n",
       "      <td>1.576531</td>\n",
       "    </tr>\n",
       "    <tr>\n",
       "      <th>std</th>\n",
       "      <td>7.805007</td>\n",
       "      <td>1.705783</td>\n",
       "      <td>104.644004</td>\n",
       "      <td>38.491160</td>\n",
       "      <td>849.402560</td>\n",
       "      <td>2.758864</td>\n",
       "      <td>3.683737</td>\n",
       "      <td>0.805518</td>\n",
       "    </tr>\n",
       "    <tr>\n",
       "      <th>min</th>\n",
       "      <td>9.000000</td>\n",
       "      <td>3.000000</td>\n",
       "      <td>68.000000</td>\n",
       "      <td>46.000000</td>\n",
       "      <td>1613.000000</td>\n",
       "      <td>8.000000</td>\n",
       "      <td>70.000000</td>\n",
       "      <td>1.000000</td>\n",
       "    </tr>\n",
       "    <tr>\n",
       "      <th>25%</th>\n",
       "      <td>17.000000</td>\n",
       "      <td>4.000000</td>\n",
       "      <td>105.000000</td>\n",
       "      <td>75.000000</td>\n",
       "      <td>2225.250000</td>\n",
       "      <td>13.775000</td>\n",
       "      <td>73.000000</td>\n",
       "      <td>1.000000</td>\n",
       "    </tr>\n",
       "    <tr>\n",
       "      <th>50%</th>\n",
       "      <td>22.750000</td>\n",
       "      <td>4.000000</td>\n",
       "      <td>151.000000</td>\n",
       "      <td>93.500000</td>\n",
       "      <td>2803.500000</td>\n",
       "      <td>15.500000</td>\n",
       "      <td>76.000000</td>\n",
       "      <td>1.000000</td>\n",
       "    </tr>\n",
       "    <tr>\n",
       "      <th>75%</th>\n",
       "      <td>29.000000</td>\n",
       "      <td>8.000000</td>\n",
       "      <td>275.750000</td>\n",
       "      <td>126.000000</td>\n",
       "      <td>3614.750000</td>\n",
       "      <td>17.025000</td>\n",
       "      <td>79.000000</td>\n",
       "      <td>2.000000</td>\n",
       "    </tr>\n",
       "    <tr>\n",
       "      <th>max</th>\n",
       "      <td>46.600000</td>\n",
       "      <td>8.000000</td>\n",
       "      <td>455.000000</td>\n",
       "      <td>230.000000</td>\n",
       "      <td>5140.000000</td>\n",
       "      <td>24.800000</td>\n",
       "      <td>82.000000</td>\n",
       "      <td>3.000000</td>\n",
       "    </tr>\n",
       "  </tbody>\n",
       "</table>\n",
       "</div>"
      ],
      "text/plain": [
       "              mpg   cylinders  displacement  horsepower       weight  \\\n",
       "count  392.000000  392.000000    392.000000  392.000000   392.000000   \n",
       "mean    23.445918    5.471939    194.411990  104.469388  2977.584184   \n",
       "std      7.805007    1.705783    104.644004   38.491160   849.402560   \n",
       "min      9.000000    3.000000     68.000000   46.000000  1613.000000   \n",
       "25%     17.000000    4.000000    105.000000   75.000000  2225.250000   \n",
       "50%     22.750000    4.000000    151.000000   93.500000  2803.500000   \n",
       "75%     29.000000    8.000000    275.750000  126.000000  3614.750000   \n",
       "max     46.600000    8.000000    455.000000  230.000000  5140.000000   \n",
       "\n",
       "       acceleration        year      origin  \n",
       "count    392.000000  392.000000  392.000000  \n",
       "mean      15.541327   75.979592    1.576531  \n",
       "std        2.758864    3.683737    0.805518  \n",
       "min        8.000000   70.000000    1.000000  \n",
       "25%       13.775000   73.000000    1.000000  \n",
       "50%       15.500000   76.000000    1.000000  \n",
       "75%       17.025000   79.000000    2.000000  \n",
       "max       24.800000   82.000000    3.000000  "
      ]
     },
     "execution_count": 78,
     "metadata": {},
     "output_type": "execute_result"
    }
   ],
   "source": [
    "df.describe()"
   ]
  },
  {
   "cell_type": "code",
   "execution_count": 79,
   "id": "7aca89e5-53e8-47ed-bbe5-ca2c9b9d77af",
   "metadata": {},
   "outputs": [
    {
     "data": {
      "text/plain": [
       "0      1\n",
       "1      1\n",
       "2      1\n",
       "3      1\n",
       "4      1\n",
       "      ..\n",
       "387    1\n",
       "388    2\n",
       "389    1\n",
       "390    1\n",
       "391    1\n",
       "Name: origin, Length: 392, dtype: int64"
      ]
     },
     "execution_count": 79,
     "metadata": {},
     "output_type": "execute_result"
    }
   ],
   "source": [
    "df['origin']"
   ]
  },
  {
   "cell_type": "code",
   "execution_count": 81,
   "id": "e98aae62-fc0f-422d-ae7b-4cc0daa51d1d",
   "metadata": {},
   "outputs": [
    {
     "data": {
      "text/plain": [
       "array([1, 3, 2])"
      ]
     },
     "execution_count": 81,
     "metadata": {},
     "output_type": "execute_result"
    }
   ],
   "source": [
    "df['origin'].unique()"
   ]
  },
  {
   "cell_type": "code",
   "execution_count": 83,
   "id": "3548c705-f0e1-4b07-a27f-f1d92b2325e5",
   "metadata": {},
   "outputs": [
    {
     "data": {
      "text/plain": [
       "origin\n",
       "1    245\n",
       "3     79\n",
       "2     68\n",
       "Name: count, dtype: int64"
      ]
     },
     "execution_count": 83,
     "metadata": {},
     "output_type": "execute_result"
    }
   ],
   "source": [
    "df['origin'].value_counts()"
   ]
  },
  {
   "cell_type": "code",
   "execution_count": 87,
   "id": "a013b25b-2dc4-42b8-98af-4fc2092fb946",
   "metadata": {},
   "outputs": [],
   "source": [
    "df['origin'] = df['origin'].replace({1:\"American\",2:\"European\",3:\"Japanese\"})"
   ]
  },
  {
   "cell_type": "code",
   "execution_count": 88,
   "id": "2a009797-fa39-4180-8a5a-bd147824c232",
   "metadata": {},
   "outputs": [
    {
     "data": {
      "text/html": [
       "<div>\n",
       "<style scoped>\n",
       "    .dataframe tbody tr th:only-of-type {\n",
       "        vertical-align: middle;\n",
       "    }\n",
       "\n",
       "    .dataframe tbody tr th {\n",
       "        vertical-align: top;\n",
       "    }\n",
       "\n",
       "    .dataframe thead th {\n",
       "        text-align: right;\n",
       "    }\n",
       "</style>\n",
       "<table border=\"1\" class=\"dataframe\">\n",
       "  <thead>\n",
       "    <tr style=\"text-align: right;\">\n",
       "      <th></th>\n",
       "      <th>mpg</th>\n",
       "      <th>cylinders</th>\n",
       "      <th>displacement</th>\n",
       "      <th>horsepower</th>\n",
       "      <th>weight</th>\n",
       "      <th>acceleration</th>\n",
       "      <th>year</th>\n",
       "      <th>origin</th>\n",
       "      <th>name</th>\n",
       "    </tr>\n",
       "  </thead>\n",
       "  <tbody>\n",
       "    <tr>\n",
       "      <th>0</th>\n",
       "      <td>18.0</td>\n",
       "      <td>8</td>\n",
       "      <td>307.0</td>\n",
       "      <td>130</td>\n",
       "      <td>3504</td>\n",
       "      <td>12.0</td>\n",
       "      <td>70</td>\n",
       "      <td>American</td>\n",
       "      <td>chevrolet chevelle malibu</td>\n",
       "    </tr>\n",
       "    <tr>\n",
       "      <th>1</th>\n",
       "      <td>15.0</td>\n",
       "      <td>8</td>\n",
       "      <td>350.0</td>\n",
       "      <td>165</td>\n",
       "      <td>3693</td>\n",
       "      <td>11.5</td>\n",
       "      <td>70</td>\n",
       "      <td>American</td>\n",
       "      <td>buick skylark 320</td>\n",
       "    </tr>\n",
       "    <tr>\n",
       "      <th>2</th>\n",
       "      <td>18.0</td>\n",
       "      <td>8</td>\n",
       "      <td>318.0</td>\n",
       "      <td>150</td>\n",
       "      <td>3436</td>\n",
       "      <td>11.0</td>\n",
       "      <td>70</td>\n",
       "      <td>American</td>\n",
       "      <td>plymouth satellite</td>\n",
       "    </tr>\n",
       "    <tr>\n",
       "      <th>3</th>\n",
       "      <td>16.0</td>\n",
       "      <td>8</td>\n",
       "      <td>304.0</td>\n",
       "      <td>150</td>\n",
       "      <td>3433</td>\n",
       "      <td>12.0</td>\n",
       "      <td>70</td>\n",
       "      <td>American</td>\n",
       "      <td>amc rebel sst</td>\n",
       "    </tr>\n",
       "    <tr>\n",
       "      <th>4</th>\n",
       "      <td>17.0</td>\n",
       "      <td>8</td>\n",
       "      <td>302.0</td>\n",
       "      <td>140</td>\n",
       "      <td>3449</td>\n",
       "      <td>10.5</td>\n",
       "      <td>70</td>\n",
       "      <td>American</td>\n",
       "      <td>ford torino</td>\n",
       "    </tr>\n",
       "  </tbody>\n",
       "</table>\n",
       "</div>"
      ],
      "text/plain": [
       "    mpg  cylinders  displacement  horsepower  weight  acceleration  year  \\\n",
       "0  18.0          8         307.0         130    3504          12.0    70   \n",
       "1  15.0          8         350.0         165    3693          11.5    70   \n",
       "2  18.0          8         318.0         150    3436          11.0    70   \n",
       "3  16.0          8         304.0         150    3433          12.0    70   \n",
       "4  17.0          8         302.0         140    3449          10.5    70   \n",
       "\n",
       "     origin                       name  \n",
       "0  American  chevrolet chevelle malibu  \n",
       "1  American          buick skylark 320  \n",
       "2  American         plymouth satellite  \n",
       "3  American              amc rebel sst  \n",
       "4  American                ford torino  "
      ]
     },
     "execution_count": 88,
     "metadata": {},
     "output_type": "execute_result"
    }
   ],
   "source": [
    "df.head()"
   ]
  },
  {
   "cell_type": "code",
   "execution_count": 90,
   "id": "38c66a62-3430-4d02-9eb4-d4b332ad40c8",
   "metadata": {},
   "outputs": [
    {
     "data": {
      "text/plain": [
       "origin\n",
       "American    245\n",
       "Japanese     79\n",
       "European     68\n",
       "Name: count, dtype: int64"
      ]
     },
     "execution_count": 90,
     "metadata": {},
     "output_type": "execute_result"
    }
   ],
   "source": [
    "df['origin'].value_counts()"
   ]
  },
  {
   "cell_type": "code",
   "execution_count": 82,
   "id": "9cd22c0f-8661-44cd-9a3b-5c163114e242",
   "metadata": {},
   "outputs": [
    {
     "data": {
      "text/plain": [
       "array([70, 71, 72, 73, 74, 75, 76, 77, 78, 79, 80, 81, 82])"
      ]
     },
     "execution_count": 82,
     "metadata": {},
     "output_type": "execute_result"
    }
   ],
   "source": [
    "df['year'].unique()"
   ]
  }
 ],
 "metadata": {
  "kernelspec": {
   "display_name": "Python 3 (ipykernel)",
   "language": "python",
   "name": "python3"
  },
  "language_info": {
   "codemirror_mode": {
    "name": "ipython",
    "version": 3
   },
   "file_extension": ".py",
   "mimetype": "text/x-python",
   "name": "python",
   "nbconvert_exporter": "python",
   "pygments_lexer": "ipython3",
   "version": "3.12.3"
  }
 },
 "nbformat": 4,
 "nbformat_minor": 5
}
